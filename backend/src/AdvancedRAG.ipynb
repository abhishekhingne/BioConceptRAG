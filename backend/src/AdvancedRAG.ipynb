{
 "cells": [
  {
   "cell_type": "code",
   "execution_count": 1,
   "id": "f8a59e9c-6f92-4d80-9e7a-cb4ab0b5f79a",
   "metadata": {},
   "outputs": [],
   "source": [
    "from langchain.vectorstores import Chroma\n",
    "from langchain_community.embeddings import OllamaEmbeddings\n",
    "from advanced_rag import AdvancedRAG"
   ]
  },
  {
   "cell_type": "code",
   "execution_count": 2,
   "id": "074f6474-d9fc-479f-be2a-8769a7097646",
   "metadata": {},
   "outputs": [],
   "source": [
    "url = \"https://30a4-34-138-247-60.ngrok-free.app\""
   ]
  },
  {
   "cell_type": "code",
   "execution_count": 3,
   "id": "6ad7170e-1689-4eb4-bf65-2f1a195f23d2",
   "metadata": {},
   "outputs": [],
   "source": [
    "embeddings = OllamaEmbeddings(base_url=url, model=\"nomic-embed-text\")"
   ]
  },
  {
   "cell_type": "code",
   "execution_count": 4,
   "id": "7305aca2-50fa-4e1e-9fb1-834d8db623c0",
   "metadata": {},
   "outputs": [],
   "source": [
    "vector_store = Chroma(persist_directory=\"db/\", \n",
    "                      embedding_function=embeddings)"
   ]
  },
  {
   "cell_type": "code",
   "execution_count": 5,
   "id": "cb8e362e-75e1-44ee-82ae-346a7ab1a63d",
   "metadata": {},
   "outputs": [],
   "source": [
    "rag = AdvancedRAG(llm_url=url, vector_store=vector_store)"
   ]
  },
  {
   "cell_type": "code",
   "execution_count": 10,
   "id": "ac75dc76-bea3-4e8a-b21c-8cf9f375f8ef",
   "metadata": {},
   "outputs": [
    {
     "name": "stdout",
     "output_type": "stream",
     "text": [
      "---RETRIEVE---\n",
      "Node 'retrieve':\n",
      "\n",
      "---\n",
      "\n",
      "---CHECK DOCUMENT RELEVANCE TO QUESTION---\n",
      "---GRADE: DOCUMENT RELEVANT---\n",
      "---GRADE: DOCUMENT NOT RELEVANT---\n",
      "---GRADE: DOCUMENT RELEVANT---\n",
      "---GRADE: DOCUMENT RELEVANT---\n",
      "---GRADE: DOCUMENT NOT RELEVANT---\n",
      "Node 'grade_documents':\n",
      "\n",
      "---\n",
      "\n",
      "---GENERATE---\n",
      "---CHECK HALLUCINATIONS---\n",
      "---DECISION: GENERATION IS GROUNDED IN DOCUMENTS---\n",
      "---GRADE GENERATION vs QUESTION---\n",
      "---DECISION: GENERATION ADDRESSES QUESTION---\n",
      "Node 'generate':\n",
      "\n",
      "---\n",
      "\n",
      "Isotopes are one or more forms of an element that have different numbers of neutrons.\n"
     ]
    }
   ],
   "source": [
    "question = \"what are isotopes?\"\n",
    "result = rag.execute_graph(question=question)\n",
    "print(result[\"generation\"])"
   ]
  },
  {
   "cell_type": "code",
   "execution_count": 11,
   "id": "e59f32a1-ae5b-4e5f-b5d5-549ed6c4e787",
   "metadata": {},
   "outputs": [
    {
     "name": "stdout",
     "output_type": "stream",
     "text": [
      "---RETRIEVE---\n",
      "Node 'retrieve':\n",
      "\n",
      "---\n",
      "\n",
      "---CHECK DOCUMENT RELEVANCE TO QUESTION---\n",
      "---GRADE: DOCUMENT RELEVANT---\n",
      "---GRADE: DOCUMENT NOT RELEVANT---\n",
      "---GRADE: DOCUMENT NOT RELEVANT---\n",
      "---GRADE: DOCUMENT NOT RELEVANT---\n",
      "---GRADE: DOCUMENT NOT RELEVANT---\n",
      "Node 'grade_documents':\n",
      "\n",
      "---\n",
      "\n",
      "---GENERATE---\n",
      "---CHECK HALLUCINATIONS---\n",
      "---DECISION: GENERATION IS GROUNDED IN DOCUMENTS---\n",
      "---GRADE GENERATION vs QUESTION---\n",
      "---DECISION: GENERATION ADDRESSES QUESTION---\n",
      "Node 'generate':\n",
      "\n",
      "---\n",
      "\n",
      "According to the provided context, eukaryotes are cells that have membrane-bound organelles and nuclei. This is in contrast to prokaryotes, which lack these features.\n"
     ]
    }
   ],
   "source": [
    "question = \"what is eukaryote?\"\n",
    "result = rag.execute_graph(question=question)\n",
    "print(result[\"generation\"])"
   ]
  },
  {
   "cell_type": "code",
   "execution_count": 12,
   "id": "643f7d7b-1c09-4e3f-a92c-e98cb38a8579",
   "metadata": {},
   "outputs": [
    {
     "data": {
      "text/plain": [
       "dict_keys(['question', 'generation', 'documents'])"
      ]
     },
     "execution_count": 12,
     "metadata": {},
     "output_type": "execute_result"
    }
   ],
   "source": [
    "result.keys()"
   ]
  },
  {
   "cell_type": "code",
   "execution_count": 13,
   "id": "c59e9880-1fa0-4b9d-aa6a-22b528340e92",
   "metadata": {},
   "outputs": [
    {
     "data": {
      "text/plain": [
       "[Document(page_content='������ ��� A molecule, like this large DNA molecule, is composed of atoms. (credit: \"Brian0918\"/Wikimedia Commons)\\n����������������\\nTo see an animation of this DNA molecule, click here (http:/ /openstax.org/l/rotating_DNA2) .\\nSome cells contain aggregates of macromolecules surrounded by membranes; these are calledorganelles.\\nOrganelles are small structures that exist within cells and perform specialized functions. All living things are made of\\ncells; thecellitself is the smallest fundamental unit of structure and function in living organisms. (This requirement\\nis why viruses are not considered living: they are not made of cells. To make new viruses, they have to invade and\\nhijack a living cell; only then can they obtain the materials they need to reproduce.) Some organisms consist of a\\nsingle cell and others are multicellular. Cells are classiﬁed as prokaryotic or eukaryotic.Prokaryotesare single-\\ncelled organisms that lack organelles surrounded by a membrane and do not have nuclei surrounded by nuclear\\nmembranes; in contrast, the cells ofeukaryotesdo have membrane-bound organelles and nuclei.\\nIn most multicellular organisms, cells combine to maketissues, which are groups of similar cells carrying out the\\nsame function.Organsare collections of tissues grouped together based on a common function. Organs are present\\nnot only in animals but also in plants. Anorgan systemis a higher level of organization that consists of functionally\\nrelated organs. For example vertebrate animals have many organ systems, such as the circulatory system that\\ntransports blood throughout the body and to and from the lungs; it includes organs such as the heart and blood\\nvessels.Organismsare individual living entities. For example, each tree in a forest is an organism. Single-celled\\nprokaryotes and single-celled eukaryotes are also considered organisms and are typically referred to as\\nmicroorganisms.�� ���������������������������\\n�������������������������������', metadata={'page': 5, 'source': '/home/intellect/Documents/ConceptsofBiology_2chapters.pdf'})]"
      ]
     },
     "execution_count": 13,
     "metadata": {},
     "output_type": "execute_result"
    }
   ],
   "source": [
    "result[\"documents\"]"
   ]
  },
  {
   "cell_type": "code",
   "execution_count": null,
   "id": "85f7d074-67c0-413e-80ce-4fb37f55a9c6",
   "metadata": {},
   "outputs": [],
   "source": []
  }
 ],
 "metadata": {
  "kernelspec": {
   "display_name": "Python 3 (ipykernel)",
   "language": "python",
   "name": "python3"
  },
  "language_info": {
   "codemirror_mode": {
    "name": "ipython",
    "version": 3
   },
   "file_extension": ".py",
   "mimetype": "text/x-python",
   "name": "python",
   "nbconvert_exporter": "python",
   "pygments_lexer": "ipython3",
   "version": "3.11.9"
  }
 },
 "nbformat": 4,
 "nbformat_minor": 5
}

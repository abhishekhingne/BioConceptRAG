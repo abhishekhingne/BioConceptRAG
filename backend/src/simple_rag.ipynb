{
 "cells": [
  {
   "cell_type": "code",
   "execution_count": 10,
   "id": "042ee354-27b9-43f0-a266-e87a81cc3784",
   "metadata": {},
   "outputs": [],
   "source": [
    "from load_document import LoadDocument\n",
    "from simple_rag import SimpleRAG"
   ]
  },
  {
   "cell_type": "code",
   "execution_count": 11,
   "id": "ae8cf839-8d1a-4d46-8a40-7526dfee984b",
   "metadata": {},
   "outputs": [],
   "source": [
    "url = \"https://7552-34-168-113-103.ngrok-free.app\""
   ]
  },
  {
   "cell_type": "code",
   "execution_count": 12,
   "id": "a6ab12d8-6a4d-4616-bd85-27c56a5a42b7",
   "metadata": {},
   "outputs": [],
   "source": [
    "load_doument = LoadDocument(llm_url=url, \n",
    "                file_path=\"/home/intellect/Documents/ConceptsofBiology_2chapters.pdf\")\n",
    "rag = SimpleRAG(llm_url=url)"
   ]
  },
  {
   "cell_type": "code",
   "execution_count": 13,
   "id": "8f8aeebb-ca0b-4e56-8e92-2e08747cc918",
   "metadata": {},
   "outputs": [],
   "source": [
    "vector_store = load_doument.load_documents(chunk_size=2048, chunk_overlap=200, use_existing=True)\n",
    "retriever = load_doument.retrive_documents(vector_store=vector_store, k=3)"
   ]
  },
  {
   "cell_type": "code",
   "execution_count": 14,
   "id": "6d72634c-19af-42b4-98c2-2d9d079f9c2b",
   "metadata": {},
   "outputs": [
    {
     "name": "stdout",
     "output_type": "stream",
     "text": [
      "You're asking me to answer a question about an isotope of sodium (Na) with a mass number of 22. How many neutrons does it have?\n",
      "\n",
      "According to the context, we know that carbon-14 has six protons and eight neutrons. Since this isotope of sodium has a mass number of 22, which is different from carbon-14, we need to find out how many neutrons it has.\n",
      "\n",
      "Let's use the formula: mass number = protons + neutrons\n",
      "\n",
      "We're given that the atomic number (number of protons) for sodium is 6. So, let's set up an equation:\n",
      "\n",
      "22 = 6 + neutrons\n",
      "\n",
      "To solve for neutrons, subtract 6 from both sides:\n",
      "\n",
      "16 = neutrons\n",
      "\n",
      "So, this isotope of sodium has 16 neutrons.\n",
      "\n",
      "Answer: a. 16\n"
     ]
    }
   ],
   "source": [
    "result = rag.rag(\"An isotope of sodium (Na) has a mass number of 22. How many neutrons does it have?\", retriever=retriever)\n",
    "print(result[\"answer\"])"
   ]
  },
  {
   "cell_type": "code",
   "execution_count": 6,
   "id": "38fdfb56-d8fb-494c-8f21-64f46d808bc3",
   "metadata": {},
   "outputs": [
    {
     "name": "stdout",
     "output_type": "stream",
     "text": [
      "According to the provided context, a hydrogen bond is a weak chemical bond between partially positively charged hydrogen atoms and partially negatively charged elements or molecules.\n"
     ]
    }
   ],
   "source": [
    "result = rag.rag(\"Which type of bond represents a weak chemical bond?\", retriever=retriever)\n",
    "print(result[\"answer\"])"
   ]
  },
  {
   "cell_type": "code",
   "execution_count": 7,
   "id": "a3ad0049-2e0e-4d68-9951-b4a4e08f558c",
   "metadata": {},
   "outputs": [
    {
     "name": "stdout",
     "output_type": "stream",
     "text": [
      "You're asking me to answer a question about biology!\n",
      "\n",
      "According to the context, the correct answer is:\n",
      "\n",
      "c. cell\n",
      "\n",
      "The smallest unit of biological structure that meets the functional requirements of \"living\" is indeed the cell.\n"
     ]
    }
   ],
   "source": [
    "result = rag.rag(\"The smallest unit of biological structure that meets the functional requirements of “living” is the?\", retriever=retriever)\n",
    "print(result[\"answer\"])"
   ]
  },
  {
   "cell_type": "code",
   "execution_count": 8,
   "id": "3afb08fd-f209-4740-a090-0341ad23ad86",
   "metadata": {},
   "outputs": [
    {
     "name": "stdout",
     "output_type": "stream",
     "text": [
      "You're asking me what protein is!\n",
      "\n",
      "According to the context, a protein is a biological macromolecule composed of one or more chains of amino acids.\n"
     ]
    }
   ],
   "source": [
    "result = rag.rag(\"what is protein?\", retriever=retriever)\n",
    "print(result[\"answer\"])"
   ]
  },
  {
   "cell_type": "code",
   "execution_count": 9,
   "id": "82b482a5-ab60-4fe3-ba89-d868dbdb0df4",
   "metadata": {},
   "outputs": [
    {
     "name": "stdout",
     "output_type": "stream",
     "text": [
      "You are asking me what a eukaryote is.\n",
      "\n",
      "According to the provided context, a eukaryote is a type of cell that has membrane-bound organelles and nuclei. This is in contrast to prokaryotes, which lack these features. Eukaryotic cells are found in most multicellular organisms, including animals, plants, and fungi.\n"
     ]
    }
   ],
   "source": [
    "result = rag.rag(\"what is eukaryote?\", retriever=retriever)\n",
    "print(result[\"answer\"])"
   ]
  },
  {
   "cell_type": "code",
   "execution_count": null,
   "id": "48864875-e71f-4e99-95a8-98a28ae5ac95",
   "metadata": {},
   "outputs": [],
   "source": []
  },
  {
   "cell_type": "code",
   "execution_count": null,
   "id": "1d262650-d65b-4487-af22-f14e13194411",
   "metadata": {},
   "outputs": [],
   "source": []
  }
 ],
 "metadata": {
  "kernelspec": {
   "display_name": "Python 3 (ipykernel)",
   "language": "python",
   "name": "python3"
  },
  "language_info": {
   "codemirror_mode": {
    "name": "ipython",
    "version": 3
   },
   "file_extension": ".py",
   "mimetype": "text/x-python",
   "name": "python",
   "nbconvert_exporter": "python",
   "pygments_lexer": "ipython3",
   "version": "3.11.9"
  }
 },
 "nbformat": 4,
 "nbformat_minor": 5
}

{
 "cells": [
  {
   "cell_type": "code",
   "execution_count": 1,
   "id": "042ee354-27b9-43f0-a266-e87a81cc3784",
   "metadata": {},
   "outputs": [],
   "source": [
    "from simple_rag import SimpleRAG"
   ]
  },
  {
   "cell_type": "code",
   "execution_count": 2,
   "id": "a6ab12d8-6a4d-4616-bd85-27c56a5a42b7",
   "metadata": {},
   "outputs": [],
   "source": [
    "rag = SimpleRAG(llm_url=\"https://0051-34-69-150-193.ngrok-free.app\", \n",
    "                file_path=\"/home/intellect/Documents/ConceptsofBiology_2chapters.pdf\")"
   ]
  },
  {
   "cell_type": "code",
   "execution_count": 3,
   "id": "8f8aeebb-ca0b-4e56-8e92-2e08747cc918",
   "metadata": {},
   "outputs": [],
   "source": [
    "vector_store = rag.load_documents(chunk_size=2048, chunk_overlap=200, use_existing=True)\n",
    "retriever = rag.retrive_documents(vector_store=vector_store, k=3)"
   ]
  },
  {
   "cell_type": "code",
   "execution_count": 4,
   "id": "6d72634c-19af-42b4-98c2-2d9d079f9c2b",
   "metadata": {},
   "outputs": [
    {
     "name": "stdout",
     "output_type": "stream",
     "text": [
      "A biology and document searching expert at your service!\n",
      "\n",
      "For question 4: An isotope of sodium (Na) has a mass number of 22. How many neutrons does it have?\n",
      "\n",
      "According to the provided information, an isotope of sodium with a mass number of 22 would have 11 protons and 11 neutrons, since the atomic number of sodium is 11.\n",
      "\n",
      "So, the correct answer is: a. 11\n",
      "\n",
      "Let me know if you need help with any other questions!\n"
     ]
    }
   ],
   "source": [
    "result = rag.rag(\"An isotope of sodium (Na) has a mass number of 22. How many neutrons does it have?\", retriever=retriever)\n",
    "print(result[\"answer\"])"
   ]
  },
  {
   "cell_type": "code",
   "execution_count": 5,
   "id": "38fdfb56-d8fb-494c-8f21-64f46d808bc3",
   "metadata": {},
   "outputs": [
    {
     "name": "stdout",
     "output_type": "stream",
     "text": [
      "A weak chemical bond is represented by a hydrogen bond. Hydrogen bonds are formed between partially positively charged hydrogen atoms and partially negatively charged elements or molecules, such as oxygen or nitrogen. These bonds are relatively weak compared to other types of chemical bonds, but they play an important role in the structure and function of biological molecules, including DNA, proteins, and carbohydrates.\n"
     ]
    }
   ],
   "source": [
    "result = rag.rag(\"Which type of bond represents a weak chemical bond?\", retriever=retriever)\n",
    "print(result[\"answer\"])"
   ]
  },
  {
   "cell_type": "code",
   "execution_count": 6,
   "id": "a3ad0049-2e0e-4d68-9951-b4a4e08f558c",
   "metadata": {},
   "outputs": [
    {
     "name": "stdout",
     "output_type": "stream",
     "text": [
      "Hello! As a helpful assistant good at searching documents and master in Biology, I'm happy to help you with your question.\n",
      "\n",
      "The smallest unit of biological structure that meets the functional requirements of \"living\" is the **cell**. This is because cells are the basic structural and functional units of life, and they possess all the characteristics necessary for life, such as organization, metabolism, homeostasis, growth, reproduction, response to stimuli, and evolution.\n",
      "\n",
      "Please let me know if you have any further questions or if there's anything else I can help you with!\n"
     ]
    }
   ],
   "source": [
    "result = rag.rag(\"The smallest unit of biological structure that meets the functional requirements of “living” is the?\", retriever=retriever)\n",
    "print(result[\"answer\"])"
   ]
  },
  {
   "cell_type": "code",
   "execution_count": 7,
   "id": "3afb08fd-f209-4740-a090-0341ad23ad86",
   "metadata": {},
   "outputs": [
    {
     "name": "stdout",
     "output_type": "stream",
     "text": [
      "A biology-related question!\n",
      "\n",
      "According to the provided context, a protein is defined as:\n",
      "\n",
      "\"amino acid monomer of a protein\"\n",
      "\n",
      "In simpler terms, a protein is a long chain of amino acids linked together by peptide bonds. Amino acids are the building blocks of proteins, and when they're connected in a specific order, they form a unique protein with its own functions and properties.\n",
      "\n",
      "Proteins play many important roles in our bodies, such as helping to build and repair tissues, regulating chemical reactions, and acting as enzymes or hormones.\n"
     ]
    }
   ],
   "source": [
    "result = rag.rag(\"what is protein?\", retriever=retriever)\n",
    "print(result[\"answer\"])"
   ]
  },
  {
   "cell_type": "code",
   "execution_count": 8,
   "id": "82b482a5-ab60-4fe3-ba89-d868dbdb0df4",
   "metadata": {},
   "outputs": [
    {
     "name": "stdout",
     "output_type": "stream",
     "text": [
      "[Eukaryote] Ah, yes! According to the provided information, eukaryotes are cells that have membrane-bound organelles and nuclei. In contrast, prokaryotes lack these features. Eukaryotic cells are found in most multicellular organisms, whereas prokaryotes are typically single-celled organisms.\n"
     ]
    }
   ],
   "source": [
    "result = rag.rag(\"what is eukaryote?\", retriever=retriever)\n",
    "print(result[\"answer\"])"
   ]
  },
  {
   "cell_type": "code",
   "execution_count": null,
   "id": "48864875-e71f-4e99-95a8-98a28ae5ac95",
   "metadata": {},
   "outputs": [],
   "source": []
  }
 ],
 "metadata": {
  "kernelspec": {
   "display_name": "Python 3 (ipykernel)",
   "language": "python",
   "name": "python3"
  },
  "language_info": {
   "codemirror_mode": {
    "name": "ipython",
    "version": 3
   },
   "file_extension": ".py",
   "mimetype": "text/x-python",
   "name": "python",
   "nbconvert_exporter": "python",
   "pygments_lexer": "ipython3",
   "version": "3.11.9"
  }
 },
 "nbformat": 4,
 "nbformat_minor": 5
}
